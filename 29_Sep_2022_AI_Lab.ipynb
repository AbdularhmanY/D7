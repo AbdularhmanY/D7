{
  "nbformat": 4,
  "nbformat_minor": 0,
  "metadata": {
    "colab": {
      "provenance": [],
      "authorship_tag": "ABX9TyNCOIxCvvV/dSWTHXJNQ+Nr",
      "include_colab_link": true
    },
    "kernelspec": {
      "name": "python3",
      "display_name": "Python 3"
    },
    "language_info": {
      "name": "python"
    }
  },
  "cells": [
    {
      "cell_type": "markdown",
      "metadata": {
        "id": "view-in-github",
        "colab_type": "text"
      },
      "source": [
        "<a href=\"https://colab.research.google.com/github/AbdularhmanY/D7/blob/main/29_Sep_2022_AI_Lab.ipynb\" target=\"_parent\"><img src=\"https://colab.research.google.com/assets/colab-badge.svg\" alt=\"Open In Colab\"/></a>"
      ]
    },
    {
      "cell_type": "code",
      "execution_count": 6,
      "metadata": {
        "colab": {
          "base_uri": "https://localhost:8080/"
        },
        "id": "UuhZvu0VtlUM",
        "outputId": "1bbc4d33-04fa-4ee4-8de5-bc4b5b42094e"
      },
      "outputs": [
        {
          "output_type": "stream",
          "name": "stdout",
          "text": [
            "Enter Value 0  : 10\n",
            "Enter Value 1  : 9\n",
            "Enter Value 2  : 8\n",
            "Enter Value 3  : 7\n",
            "Enter Value 4  : 6\n",
            "Enter Value 5  : 7\n",
            "Enter Value 6  : 8\n",
            "Enter Value 7  : 0\n",
            "The optimal value is : 8\n"
          ]
        }
      ],
      "source": [
        "MAX, MIN = 1000, -1000 \n",
        "def minimax(depth, nodeIndex, maximizingPlayer, \n",
        "\t\t\tvalues, alpha, beta): \n",
        "\n",
        "\tif depth == 3: \n",
        "\t\treturn values[nodeIndex] \n",
        "\n",
        "\tif maximizingPlayer: \n",
        "\t\n",
        "\t\tbest = MIN\n",
        "\n",
        "\t\tfor i in range(0, 2): \n",
        "\t\t\t\n",
        "\t\t\tval = minimax(depth + 1, nodeIndex * 2 + i, \n",
        "\t\t\t\t\t\tFalse, values, alpha, beta) \n",
        "\t\t\tbest = max(best, val) \n",
        "\t\t\talpha = max(alpha, best) \n",
        "\n",
        "\t\t\tif beta <= alpha: \n",
        "\t\t\t\tbreak\n",
        "\t\t\n",
        "\t\treturn best \n",
        "\t\n",
        "\telse: \n",
        "\t\tbest = MAX\n",
        "\t\tfor i in range(0, 2): \n",
        "\t\t\n",
        "\t\t\tval = minimax(depth + 1, nodeIndex * 2 + i, \n",
        "\t\t\t\t\t\t\tTrue, values, alpha, beta) \n",
        "\t\t\tbest = min(best, val) \n",
        "\t\t\tbeta = min(beta, best) \n",
        "\t\t\tif beta <= alpha: \n",
        "\t\t\t\tbreak\n",
        "\t\t\n",
        "\t\treturn best \n",
        "\t\n",
        "if __name__ == \"__main__\": \n",
        "    values = []\n",
        "    for i in range(0, 8):\n",
        "\n",
        "        x = int(input(f\"Enter Value {i}  : \"))\n",
        "        values.append(x)\n",
        "\n",
        "    print (\"The optimal value is :\", minimax(0, 0, True, values, MIN, MAX))"
      ]
    }
  ]
}