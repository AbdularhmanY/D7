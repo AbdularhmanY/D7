{
  "nbformat": 4,
  "nbformat_minor": 0,
  "metadata": {
    "colab": {
      "provenance": [],
      "toc_visible": true,
      "authorship_tag": "ABX9TyNoLQHcPwUuL8eiB/xjY1tF",
      "include_colab_link": true
    },
    "kernelspec": {
      "name": "python3",
      "display_name": "Python 3"
    },
    "language_info": {
      "name": "python"
    }
  },
  "cells": [
    {
      "cell_type": "markdown",
      "metadata": {
        "id": "view-in-github",
        "colab_type": "text"
      },
      "source": [
        "<a href=\"https://colab.research.google.com/github/AbdularhmanY/D7/blob/main/Untitled0.ipynb\" target=\"_parent\"><img src=\"https://colab.research.google.com/assets/colab-badge.svg\" alt=\"Open In Colab\"/></a>"
      ]
    },
    {
      "cell_type": "code",
      "execution_count": 1,
      "metadata": {
        "colab": {
          "base_uri": "https://localhost:8080/"
        },
        "id": "q49i57atgnEx",
        "outputId": "0d7fe803-c3fa-46fb-aa94-b1f6d8ac9b03"
      },
      "outputs": [
        {
          "output_type": "stream",
          "name": "stdout",
          "text": [
            "['a', 'b', 'c']\n",
            "['aa', 'ba', 'ca', 'ab', 'bb', 'cb', 'ac', 'bc', 'cc']\n",
            "['aaa', 'baa', 'caa', 'aba', 'bba', 'cba', 'aca', 'bca', 'cca', 'aab', 'bab', 'cab', 'abb', 'bbb', 'cbb', 'acb', 'bcb', 'ccb', 'aac', 'bac', 'cac', 'abc', 'bbc', 'cbc', 'acc', 'bcc', 'ccc']\n"
          ]
        }
      ],
      "source": [
        "def permute(list, s):\n",
        "    if list==1:\n",
        "        return s\n",
        "    else:\n",
        "        return [\n",
        "            x+y\n",
        "            for y in permute(1, s) \n",
        "            for x in permute(list - 1, s)\n",
        "        ]\n",
        "print(permute(1, [\"a\", \"b\", \"c\"])) \n",
        "print(permute(2, [\"a\", \"b\", \"c\"])) \n",
        "print(permute(3, [\"a\", \"b\", \"c\"]))"
      ]
    }
  ]
}